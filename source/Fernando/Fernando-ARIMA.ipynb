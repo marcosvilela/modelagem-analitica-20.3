{
 "cells": [
  {
   "cell_type": "code",
   "execution_count": 1,
   "metadata": {},
   "outputs": [],
   "source": [
    "import numpy as np\n",
    "import pandas as pd\n",
    "import matplotlib.pyplot as plt\n",
    "import seaborn as sns\n",
    "%matplotlib inline\n",
    "\n",
    "import pmdarima as pm"
   ]
  },
  {
   "cell_type": "code",
   "execution_count": 2,
   "metadata": {},
   "outputs": [],
   "source": [
    "hourly_mean = pd.read_csv('../../data/Fernando/hourly_mean.csv')"
   ]
  },
  {
   "cell_type": "code",
   "execution_count": 3,
   "metadata": {},
   "outputs": [],
   "source": [
    "hourly_mean_test = pd.read_csv('../../data/Fernando/hourly_mean_test.csv')"
   ]
  },
  {
   "cell_type": "code",
   "execution_count": 4,
   "metadata": {},
   "outputs": [
    {
     "data": {
      "text/html": [
       "<div>\n",
       "<style scoped>\n",
       "    .dataframe tbody tr th:only-of-type {\n",
       "        vertical-align: middle;\n",
       "    }\n",
       "\n",
       "    .dataframe tbody tr th {\n",
       "        vertical-align: top;\n",
       "    }\n",
       "\n",
       "    .dataframe thead th {\n",
       "        text-align: right;\n",
       "    }\n",
       "</style>\n",
       "<table border=\"1\" class=\"dataframe\">\n",
       "  <thead>\n",
       "    <tr style=\"text-align: right;\">\n",
       "      <th></th>\n",
       "      <th>datetime</th>\n",
       "      <th>Valor</th>\n",
       "      <th>Dia</th>\n",
       "      <th>Ano</th>\n",
       "      <th>Hora</th>\n",
       "      <th>Minuto</th>\n",
       "    </tr>\n",
       "  </thead>\n",
       "  <tbody>\n",
       "    <tr>\n",
       "      <th>0</th>\n",
       "      <td>2015-03-02 00:00:00</td>\n",
       "      <td>1.000</td>\n",
       "      <td>2.0</td>\n",
       "      <td>2015.0</td>\n",
       "      <td>0.0</td>\n",
       "      <td>0.0</td>\n",
       "    </tr>\n",
       "    <tr>\n",
       "      <th>1</th>\n",
       "      <td>2015-03-02 01:00:00</td>\n",
       "      <td>32.565</td>\n",
       "      <td>2.0</td>\n",
       "      <td>2015.0</td>\n",
       "      <td>1.0</td>\n",
       "      <td>0.0</td>\n",
       "    </tr>\n",
       "    <tr>\n",
       "      <th>2</th>\n",
       "      <td>2015-03-02 02:00:00</td>\n",
       "      <td>38.347</td>\n",
       "      <td>2.0</td>\n",
       "      <td>2015.0</td>\n",
       "      <td>2.0</td>\n",
       "      <td>0.0</td>\n",
       "    </tr>\n",
       "    <tr>\n",
       "      <th>3</th>\n",
       "      <td>2015-03-02 03:00:00</td>\n",
       "      <td>26.616</td>\n",
       "      <td>2.0</td>\n",
       "      <td>2015.0</td>\n",
       "      <td>3.0</td>\n",
       "      <td>0.0</td>\n",
       "    </tr>\n",
       "    <tr>\n",
       "      <th>4</th>\n",
       "      <td>2015-03-02 04:00:00</td>\n",
       "      <td>17.202</td>\n",
       "      <td>2.0</td>\n",
       "      <td>2015.0</td>\n",
       "      <td>4.0</td>\n",
       "      <td>0.0</td>\n",
       "    </tr>\n",
       "  </tbody>\n",
       "</table>\n",
       "</div>"
      ],
      "text/plain": [
       "              datetime   Valor  Dia     Ano  Hora  Minuto\n",
       "0  2015-03-02 00:00:00   1.000  2.0  2015.0   0.0     0.0\n",
       "1  2015-03-02 01:00:00  32.565  2.0  2015.0   1.0     0.0\n",
       "2  2015-03-02 02:00:00  38.347  2.0  2015.0   2.0     0.0\n",
       "3  2015-03-02 03:00:00  26.616  2.0  2015.0   3.0     0.0\n",
       "4  2015-03-02 04:00:00  17.202  2.0  2015.0   4.0     0.0"
      ]
     },
     "execution_count": 4,
     "metadata": {},
     "output_type": "execute_result"
    }
   ],
   "source": [
    "hourly_mean.head()"
   ]
  },
  {
   "cell_type": "code",
   "execution_count": 5,
   "metadata": {},
   "outputs": [
    {
     "data": {
      "text/html": [
       "<div>\n",
       "<style scoped>\n",
       "    .dataframe tbody tr th:only-of-type {\n",
       "        vertical-align: middle;\n",
       "    }\n",
       "\n",
       "    .dataframe tbody tr th {\n",
       "        vertical-align: top;\n",
       "    }\n",
       "\n",
       "    .dataframe thead th {\n",
       "        text-align: right;\n",
       "    }\n",
       "</style>\n",
       "<table border=\"1\" class=\"dataframe\">\n",
       "  <thead>\n",
       "    <tr style=\"text-align: right;\">\n",
       "      <th></th>\n",
       "      <th>datetime</th>\n",
       "      <th>Valor</th>\n",
       "    </tr>\n",
       "  </thead>\n",
       "  <tbody>\n",
       "    <tr>\n",
       "      <th>0</th>\n",
       "      <td>2016-03-01 00:00:00</td>\n",
       "      <td>27.298</td>\n",
       "    </tr>\n",
       "    <tr>\n",
       "      <th>1</th>\n",
       "      <td>2016-03-01 01:00:00</td>\n",
       "      <td>176.818</td>\n",
       "    </tr>\n",
       "    <tr>\n",
       "      <th>2</th>\n",
       "      <td>2016-03-01 02:00:00</td>\n",
       "      <td>137.341</td>\n",
       "    </tr>\n",
       "    <tr>\n",
       "      <th>3</th>\n",
       "      <td>2016-03-01 03:00:00</td>\n",
       "      <td>116.532</td>\n",
       "    </tr>\n",
       "    <tr>\n",
       "      <th>4</th>\n",
       "      <td>2016-03-01 04:00:00</td>\n",
       "      <td>84.029</td>\n",
       "    </tr>\n",
       "  </tbody>\n",
       "</table>\n",
       "</div>"
      ],
      "text/plain": [
       "              datetime    Valor\n",
       "0  2016-03-01 00:00:00   27.298\n",
       "1  2016-03-01 01:00:00  176.818\n",
       "2  2016-03-01 02:00:00  137.341\n",
       "3  2016-03-01 03:00:00  116.532\n",
       "4  2016-03-01 04:00:00   84.029"
      ]
     },
     "execution_count": 5,
     "metadata": {},
     "output_type": "execute_result"
    }
   ],
   "source": [
    "hourly_mean_test.head()"
   ]
  },
  {
   "cell_type": "code",
   "execution_count": null,
   "metadata": {
    "scrolled": false
   },
   "outputs": [
    {
     "name": "stdout",
     "output_type": "stream",
     "text": [
      "Performing stepwise search to minimize aic\n",
      " ARIMA(1,0,1)(0,0,1)[24] intercept   : AIC=100658.798, Time=17.65 sec\n",
      " ARIMA(0,0,0)(0,0,0)[24] intercept   : AIC=100923.042, Time=0.11 sec\n",
      " ARIMA(1,0,0)(1,0,0)[24] intercept   : AIC=100644.148, Time=16.39 sec\n",
      " ARIMA(0,0,1)(0,0,1)[24] intercept   : AIC=100662.330, Time=17.03 sec\n",
      " ARIMA(0,0,0)(0,0,0)[24]             : AIC=102331.497, Time=0.06 sec\n",
      " ARIMA(1,0,0)(0,0,0)[24] intercept   : AIC=100831.579, Time=0.23 sec\n",
      " ARIMA(1,0,0)(2,0,0)[24] intercept   : AIC=100635.771, Time=108.50 sec\n",
      " ARIMA(1,0,0)(2,0,1)[24] intercept   : AIC=100588.830, Time=225.93 sec\n",
      " ARIMA(1,0,0)(1,0,1)[24] intercept   : AIC=inf, Time=42.56 sec\n"
     ]
    }
   ],
   "source": [
    "model = pm.auto_arima(hourly_mean['Valor'], start_p=1, start_q=1,\n",
    "                      test='adf',       # use adftest to find optimal 'd'\n",
    "                      max_p=3, max_q=3, # maximum p and q\n",
    "                      m=24,              \n",
    "                      d=None,           # let model determine 'd'\n",
    "                      seasonal=True,   \n",
    "                      start_P=0, \n",
    "                      D=0, \n",
    "                      trace=True,\n",
    "                      error_action='ignore',  \n",
    "                      suppress_warnings=True, \n",
    "                      stepwise=True)\n",
    "\n",
    "model.summary()"
   ]
  },
  {
   "cell_type": "code",
   "execution_count": null,
   "metadata": {},
   "outputs": [],
   "source": [
    "sns.set_context('paper', font_scale=2)"
   ]
  },
  {
   "cell_type": "code",
   "execution_count": null,
   "metadata": {
    "scrolled": false
   },
   "outputs": [],
   "source": [
    "model.plot_diagnostics(figsize=(20,15))\n",
    "plt.show()"
   ]
  },
  {
   "cell_type": "code",
   "execution_count": null,
   "metadata": {},
   "outputs": [],
   "source": [
    "from statsmodels.tsa.statespace.sarimax import SARIMAX \n",
    "\n",
    "  \n",
    "model = SARIMAX(hourly_mean['Valor'],  \n",
    "\n",
    "                # as duas tuplas do Best Model\n",
    "                \n",
    "                order = (2,0,0),  \n",
    "\n",
    "                seasonal_order =(0,0,0,24)) \n",
    "\n",
    "  \n",
    "\n",
    "result = model.fit() \n",
    "result.summary() "
   ]
  },
  {
   "cell_type": "code",
   "execution_count": null,
   "metadata": {},
   "outputs": [],
   "source": [
    "start = len(hourly_mean) \n",
    "\n",
    "end = len(hourly_mean) + len(hourly_mean_test) - 1\n",
    "\n",
    "  \n",
    "# Predictions for one-year against the test set \n",
    "\n",
    "predictions = result.predict(start, end, \n",
    "\n",
    "                             typ = 'levels').rename(\"Predictions\") \n",
    "\n",
    "  \n",
    "# plot predictions and actual values \n",
    "\n",
    "predictions.plot(legend = True) \n",
    "\n",
    "hourly_mean_test['Valor'].plot(legend = True) "
   ]
  },
  {
   "cell_type": "code",
   "execution_count": null,
   "metadata": {},
   "outputs": [],
   "source": [
    "from sklearn.metrics import mean_squared_error \n",
    "\n",
    "from statsmodels.tools.eval_measures import rmse \n",
    "\n",
    "  \n",
    "# Calculate root mean squared error \n",
    "\n",
    "print(rmse(hourly_mean_test[\"Valor\"], predictions))\n",
    "\n",
    "  \n",
    "# Calculate mean squared error \n",
    "\n",
    "print(mean_squared_error(hourly_mean_test[\"Valor\"], predictions))"
   ]
  }
 ],
 "metadata": {
  "kernelspec": {
   "display_name": "Python 3",
   "language": "python",
   "name": "python3"
  },
  "language_info": {
   "codemirror_mode": {
    "name": "ipython",
    "version": 3
   },
   "file_extension": ".py",
   "mimetype": "text/x-python",
   "name": "python",
   "nbconvert_exporter": "python",
   "pygments_lexer": "ipython3",
   "version": "3.8.3"
  }
 },
 "nbformat": 4,
 "nbformat_minor": 4
}
