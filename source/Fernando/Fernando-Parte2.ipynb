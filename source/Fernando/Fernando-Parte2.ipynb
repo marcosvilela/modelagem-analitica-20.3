{
 "cells": [
  {
   "cell_type": "code",
   "execution_count": 1,
   "metadata": {},
   "outputs": [],
   "source": [
    "import numpy as np\n",
    "import pandas as pd\n",
    "import statsmodels.api as sm\n",
    "from statsmodels.tsa.stattools import adfuller, kpss, acf, grangercausalitytests\n",
    "from statsmodels.graphics.tsaplots import plot_acf, plot_pacf,month_plot,quarter_plot\n",
    "import statsmodels.tsa.api as smt\n",
    "import statsmodels.api as sm\n",
    "from scipy import signal\n",
    "import matplotlib.pyplot as plt\n",
    "import seaborn as sns \n",
    "from sklearn.metrics import mean_absolute_error\n",
    "from statsmodels.tsa.seasonal import seasonal_decompose\n",
    "from dateutil.parser import parse\n",
    "\n",
    "%matplotlib inline"
   ]
  },
  {
   "cell_type": "markdown",
   "metadata": {},
   "source": [
    "# Data"
   ]
  },
  {
   "cell_type": "code",
   "execution_count": 10,
   "metadata": {},
   "outputs": [],
   "source": [
    "hourly_mean = pd.read_csv('../../data/Fernando/hourly_mean.csv')\n",
    "df_train = pd.read_csv('../../data/Fernando/df_train.csv')\n",
    "log_data = pd.read_csv('../../data/Fernando/log_data.csv')\n",
    "df_test = pd.read_csv('../../data/ElectricDemandForecasting-DL-master_data_CECOVEL_test.csv')"
   ]
  },
  {
   "cell_type": "code",
   "execution_count": 3,
   "metadata": {},
   "outputs": [
    {
     "data": {
      "text/html": [
       "<div>\n",
       "<style scoped>\n",
       "    .dataframe tbody tr th:only-of-type {\n",
       "        vertical-align: middle;\n",
       "    }\n",
       "\n",
       "    .dataframe tbody tr th {\n",
       "        vertical-align: top;\n",
       "    }\n",
       "\n",
       "    .dataframe thead th {\n",
       "        text-align: right;\n",
       "    }\n",
       "</style>\n",
       "<table border=\"1\" class=\"dataframe\">\n",
       "  <thead>\n",
       "    <tr style=\"text-align: right;\">\n",
       "      <th></th>\n",
       "      <th>datetime</th>\n",
       "      <th>Valor</th>\n",
       "      <th>Dia</th>\n",
       "      <th>Ano</th>\n",
       "      <th>Hora</th>\n",
       "      <th>Minuto</th>\n",
       "    </tr>\n",
       "  </thead>\n",
       "  <tbody>\n",
       "    <tr>\n",
       "      <th>0</th>\n",
       "      <td>2015-03-02 00:00:00</td>\n",
       "      <td>1.000</td>\n",
       "      <td>1.000</td>\n",
       "      <td>1.000</td>\n",
       "      <td>1.000</td>\n",
       "      <td>1.000</td>\n",
       "    </tr>\n",
       "    <tr>\n",
       "      <th>1</th>\n",
       "      <td>2015-03-02 01:00:00</td>\n",
       "      <td>32.565</td>\n",
       "      <td>32.565</td>\n",
       "      <td>32.565</td>\n",
       "      <td>32.565</td>\n",
       "      <td>32.565</td>\n",
       "    </tr>\n",
       "    <tr>\n",
       "      <th>2</th>\n",
       "      <td>2015-03-02 02:00:00</td>\n",
       "      <td>38.347</td>\n",
       "      <td>38.347</td>\n",
       "      <td>38.347</td>\n",
       "      <td>38.347</td>\n",
       "      <td>38.347</td>\n",
       "    </tr>\n",
       "    <tr>\n",
       "      <th>3</th>\n",
       "      <td>2015-03-02 03:00:00</td>\n",
       "      <td>26.616</td>\n",
       "      <td>26.616</td>\n",
       "      <td>26.616</td>\n",
       "      <td>26.616</td>\n",
       "      <td>26.616</td>\n",
       "    </tr>\n",
       "    <tr>\n",
       "      <th>4</th>\n",
       "      <td>2015-03-02 04:00:00</td>\n",
       "      <td>17.202</td>\n",
       "      <td>17.202</td>\n",
       "      <td>17.202</td>\n",
       "      <td>17.202</td>\n",
       "      <td>17.202</td>\n",
       "    </tr>\n",
       "  </tbody>\n",
       "</table>\n",
       "</div>"
      ],
      "text/plain": [
       "              datetime   Valor     Dia     Ano    Hora  Minuto\n",
       "0  2015-03-02 00:00:00   1.000   1.000   1.000   1.000   1.000\n",
       "1  2015-03-02 01:00:00  32.565  32.565  32.565  32.565  32.565\n",
       "2  2015-03-02 02:00:00  38.347  38.347  38.347  38.347  38.347\n",
       "3  2015-03-02 03:00:00  26.616  26.616  26.616  26.616  26.616\n",
       "4  2015-03-02 04:00:00  17.202  17.202  17.202  17.202  17.202"
      ]
     },
     "execution_count": 3,
     "metadata": {},
     "output_type": "execute_result"
    }
   ],
   "source": [
    "hourly_mean.head()"
   ]
  },
  {
   "cell_type": "code",
   "execution_count": 4,
   "metadata": {},
   "outputs": [
    {
     "data": {
      "text/html": [
       "<div>\n",
       "<style scoped>\n",
       "    .dataframe tbody tr th:only-of-type {\n",
       "        vertical-align: middle;\n",
       "    }\n",
       "\n",
       "    .dataframe tbody tr th {\n",
       "        vertical-align: top;\n",
       "    }\n",
       "\n",
       "    .dataframe thead th {\n",
       "        text-align: right;\n",
       "    }\n",
       "</style>\n",
       "<table border=\"1\" class=\"dataframe\">\n",
       "  <thead>\n",
       "    <tr style=\"text-align: right;\">\n",
       "      <th></th>\n",
       "      <th>Valor</th>\n",
       "      <th>timestamp</th>\n",
       "      <th>Dia</th>\n",
       "      <th>Mês</th>\n",
       "      <th>Ano</th>\n",
       "      <th>Hora</th>\n",
       "      <th>Minuto</th>\n",
       "      <th>datetime</th>\n",
       "    </tr>\n",
       "  </thead>\n",
       "  <tbody>\n",
       "    <tr>\n",
       "      <th>0</th>\n",
       "      <td>1.000</td>\n",
       "      <td>2015-03-02T00:00</td>\n",
       "      <td>2</td>\n",
       "      <td>Mar</td>\n",
       "      <td>2015</td>\n",
       "      <td>0</td>\n",
       "      <td>0</td>\n",
       "      <td>2015-03-02 00:00:00</td>\n",
       "    </tr>\n",
       "    <tr>\n",
       "      <th>1</th>\n",
       "      <td>32.565</td>\n",
       "      <td>2015-03-02T01:00</td>\n",
       "      <td>2</td>\n",
       "      <td>Mar</td>\n",
       "      <td>2015</td>\n",
       "      <td>1</td>\n",
       "      <td>0</td>\n",
       "      <td>2015-03-02 01:00:00</td>\n",
       "    </tr>\n",
       "    <tr>\n",
       "      <th>2</th>\n",
       "      <td>38.347</td>\n",
       "      <td>2015-03-02T02:00</td>\n",
       "      <td>2</td>\n",
       "      <td>Mar</td>\n",
       "      <td>2015</td>\n",
       "      <td>2</td>\n",
       "      <td>0</td>\n",
       "      <td>2015-03-02 02:00:00</td>\n",
       "    </tr>\n",
       "    <tr>\n",
       "      <th>3</th>\n",
       "      <td>26.616</td>\n",
       "      <td>2015-03-02T03:00</td>\n",
       "      <td>2</td>\n",
       "      <td>Mar</td>\n",
       "      <td>2015</td>\n",
       "      <td>3</td>\n",
       "      <td>0</td>\n",
       "      <td>2015-03-02 03:00:00</td>\n",
       "    </tr>\n",
       "    <tr>\n",
       "      <th>4</th>\n",
       "      <td>17.202</td>\n",
       "      <td>2015-03-02T04:00</td>\n",
       "      <td>2</td>\n",
       "      <td>Mar</td>\n",
       "      <td>2015</td>\n",
       "      <td>4</td>\n",
       "      <td>0</td>\n",
       "      <td>2015-03-02 04:00:00</td>\n",
       "    </tr>\n",
       "  </tbody>\n",
       "</table>\n",
       "</div>"
      ],
      "text/plain": [
       "    Valor         timestamp  Dia  Mês   Ano  Hora  Minuto             datetime\n",
       "0   1.000  2015-03-02T00:00    2  Mar  2015     0       0  2015-03-02 00:00:00\n",
       "1  32.565  2015-03-02T01:00    2  Mar  2015     1       0  2015-03-02 01:00:00\n",
       "2  38.347  2015-03-02T02:00    2  Mar  2015     2       0  2015-03-02 02:00:00\n",
       "3  26.616  2015-03-02T03:00    2  Mar  2015     3       0  2015-03-02 03:00:00\n",
       "4  17.202  2015-03-02T04:00    2  Mar  2015     4       0  2015-03-02 04:00:00"
      ]
     },
     "execution_count": 4,
     "metadata": {},
     "output_type": "execute_result"
    }
   ],
   "source": [
    "df_train.head()"
   ]
  },
  {
   "cell_type": "code",
   "execution_count": 5,
   "metadata": {},
   "outputs": [
    {
     "data": {
      "text/html": [
       "<div>\n",
       "<style scoped>\n",
       "    .dataframe tbody tr th:only-of-type {\n",
       "        vertical-align: middle;\n",
       "    }\n",
       "\n",
       "    .dataframe tbody tr th {\n",
       "        vertical-align: top;\n",
       "    }\n",
       "\n",
       "    .dataframe thead th {\n",
       "        text-align: right;\n",
       "    }\n",
       "</style>\n",
       "<table border=\"1\" class=\"dataframe\">\n",
       "  <thead>\n",
       "    <tr style=\"text-align: right;\">\n",
       "      <th></th>\n",
       "      <th>datetime</th>\n",
       "      <th>Valor</th>\n",
       "    </tr>\n",
       "  </thead>\n",
       "  <tbody>\n",
       "    <tr>\n",
       "      <th>0</th>\n",
       "      <td>2015-03-02 00:00:00</td>\n",
       "      <td>0.000000</td>\n",
       "    </tr>\n",
       "    <tr>\n",
       "      <th>1</th>\n",
       "      <td>2015-03-02 01:00:00</td>\n",
       "      <td>3.483238</td>\n",
       "    </tr>\n",
       "    <tr>\n",
       "      <th>2</th>\n",
       "      <td>2015-03-02 02:00:00</td>\n",
       "      <td>3.646676</td>\n",
       "    </tr>\n",
       "    <tr>\n",
       "      <th>3</th>\n",
       "      <td>2015-03-02 03:00:00</td>\n",
       "      <td>3.281513</td>\n",
       "    </tr>\n",
       "    <tr>\n",
       "      <th>4</th>\n",
       "      <td>2015-03-02 04:00:00</td>\n",
       "      <td>2.845026</td>\n",
       "    </tr>\n",
       "  </tbody>\n",
       "</table>\n",
       "</div>"
      ],
      "text/plain": [
       "              datetime     Valor\n",
       "0  2015-03-02 00:00:00  0.000000\n",
       "1  2015-03-02 01:00:00  3.483238\n",
       "2  2015-03-02 02:00:00  3.646676\n",
       "3  2015-03-02 03:00:00  3.281513\n",
       "4  2015-03-02 04:00:00  2.845026"
      ]
     },
     "execution_count": 5,
     "metadata": {},
     "output_type": "execute_result"
    }
   ],
   "source": [
    "log_data.head()"
   ]
  },
  {
   "cell_type": "code",
   "execution_count": 8,
   "metadata": {},
   "outputs": [
    {
     "data": {
      "text/html": [
       "<div>\n",
       "<style scoped>\n",
       "    .dataframe tbody tr th:only-of-type {\n",
       "        vertical-align: middle;\n",
       "    }\n",
       "\n",
       "    .dataframe tbody tr th {\n",
       "        vertical-align: top;\n",
       "    }\n",
       "\n",
       "    .dataframe thead th {\n",
       "        text-align: right;\n",
       "    }\n",
       "</style>\n",
       "<table border=\"1\" class=\"dataframe\">\n",
       "  <thead>\n",
       "    <tr style=\"text-align: right;\">\n",
       "      <th></th>\n",
       "      <th>Valor</th>\n",
       "      <th>Dia</th>\n",
       "      <th>Ano</th>\n",
       "      <th>Hora</th>\n",
       "      <th>Minuto</th>\n",
       "    </tr>\n",
       "    <tr>\n",
       "      <th>datetime</th>\n",
       "      <th></th>\n",
       "      <th></th>\n",
       "      <th></th>\n",
       "      <th></th>\n",
       "      <th></th>\n",
       "    </tr>\n",
       "  </thead>\n",
       "  <tbody>\n",
       "    <tr>\n",
       "      <th>2015-03-02 00:00:00</th>\n",
       "      <td>1.000</td>\n",
       "      <td>1.000</td>\n",
       "      <td>1.000</td>\n",
       "      <td>1.000</td>\n",
       "      <td>1.000</td>\n",
       "    </tr>\n",
       "    <tr>\n",
       "      <th>2015-03-02 01:00:00</th>\n",
       "      <td>32.565</td>\n",
       "      <td>32.565</td>\n",
       "      <td>32.565</td>\n",
       "      <td>32.565</td>\n",
       "      <td>32.565</td>\n",
       "    </tr>\n",
       "    <tr>\n",
       "      <th>2015-03-02 02:00:00</th>\n",
       "      <td>38.347</td>\n",
       "      <td>38.347</td>\n",
       "      <td>38.347</td>\n",
       "      <td>38.347</td>\n",
       "      <td>38.347</td>\n",
       "    </tr>\n",
       "    <tr>\n",
       "      <th>2015-03-02 03:00:00</th>\n",
       "      <td>26.616</td>\n",
       "      <td>26.616</td>\n",
       "      <td>26.616</td>\n",
       "      <td>26.616</td>\n",
       "      <td>26.616</td>\n",
       "    </tr>\n",
       "    <tr>\n",
       "      <th>2015-03-02 04:00:00</th>\n",
       "      <td>17.202</td>\n",
       "      <td>17.202</td>\n",
       "      <td>17.202</td>\n",
       "      <td>17.202</td>\n",
       "      <td>17.202</td>\n",
       "    </tr>\n",
       "  </tbody>\n",
       "</table>\n",
       "</div>"
      ],
      "text/plain": [
       "                      Valor     Dia     Ano    Hora  Minuto\n",
       "datetime                                                   \n",
       "2015-03-02 00:00:00   1.000   1.000   1.000   1.000   1.000\n",
       "2015-03-02 01:00:00  32.565  32.565  32.565  32.565  32.565\n",
       "2015-03-02 02:00:00  38.347  38.347  38.347  38.347  38.347\n",
       "2015-03-02 03:00:00  26.616  26.616  26.616  26.616  26.616\n",
       "2015-03-02 04:00:00  17.202  17.202  17.202  17.202  17.202"
      ]
     },
     "execution_count": 8,
     "metadata": {},
     "output_type": "execute_result"
    }
   ],
   "source": [
    "hourly_mean.set_index('datetime',inplace=True)\n",
    "hourly_mean.head()"
   ]
  },
  {
   "cell_type": "code",
   "execution_count": 9,
   "metadata": {},
   "outputs": [
    {
     "data": {
      "text/html": [
       "<div>\n",
       "<style scoped>\n",
       "    .dataframe tbody tr th:only-of-type {\n",
       "        vertical-align: middle;\n",
       "    }\n",
       "\n",
       "    .dataframe tbody tr th {\n",
       "        vertical-align: top;\n",
       "    }\n",
       "\n",
       "    .dataframe thead th {\n",
       "        text-align: right;\n",
       "    }\n",
       "</style>\n",
       "<table border=\"1\" class=\"dataframe\">\n",
       "  <thead>\n",
       "    <tr style=\"text-align: right;\">\n",
       "      <th></th>\n",
       "      <th>Valor</th>\n",
       "    </tr>\n",
       "    <tr>\n",
       "      <th>datetime</th>\n",
       "      <th></th>\n",
       "    </tr>\n",
       "  </thead>\n",
       "  <tbody>\n",
       "    <tr>\n",
       "      <th>2015-03-02 00:00:00</th>\n",
       "      <td>0.000000</td>\n",
       "    </tr>\n",
       "    <tr>\n",
       "      <th>2015-03-02 01:00:00</th>\n",
       "      <td>3.483238</td>\n",
       "    </tr>\n",
       "    <tr>\n",
       "      <th>2015-03-02 02:00:00</th>\n",
       "      <td>3.646676</td>\n",
       "    </tr>\n",
       "    <tr>\n",
       "      <th>2015-03-02 03:00:00</th>\n",
       "      <td>3.281513</td>\n",
       "    </tr>\n",
       "    <tr>\n",
       "      <th>2015-03-02 04:00:00</th>\n",
       "      <td>2.845026</td>\n",
       "    </tr>\n",
       "  </tbody>\n",
       "</table>\n",
       "</div>"
      ],
      "text/plain": [
       "                        Valor\n",
       "datetime                     \n",
       "2015-03-02 00:00:00  0.000000\n",
       "2015-03-02 01:00:00  3.483238\n",
       "2015-03-02 02:00:00  3.646676\n",
       "2015-03-02 03:00:00  3.281513\n",
       "2015-03-02 04:00:00  2.845026"
      ]
     },
     "execution_count": 9,
     "metadata": {},
     "output_type": "execute_result"
    }
   ],
   "source": [
    "log_data.set_index('datetime',inplace=True)\n",
    "log_data.head()"
   ]
  },
  {
   "cell_type": "code",
   "execution_count": 11,
   "metadata": {},
   "outputs": [
    {
     "data": {
      "text/html": [
       "<div>\n",
       "<style scoped>\n",
       "    .dataframe tbody tr th:only-of-type {\n",
       "        vertical-align: middle;\n",
       "    }\n",
       "\n",
       "    .dataframe tbody tr th {\n",
       "        vertical-align: top;\n",
       "    }\n",
       "\n",
       "    .dataframe thead th {\n",
       "        text-align: right;\n",
       "    }\n",
       "</style>\n",
       "<table border=\"1\" class=\"dataframe\">\n",
       "  <thead>\n",
       "    <tr style=\"text-align: right;\">\n",
       "      <th></th>\n",
       "      <th>value</th>\n",
       "      <th>timestamp</th>\n",
       "    </tr>\n",
       "  </thead>\n",
       "  <tbody>\n",
       "    <tr>\n",
       "      <th>0</th>\n",
       "      <td>27.298</td>\n",
       "      <td>2016-03-01T00:00</td>\n",
       "    </tr>\n",
       "    <tr>\n",
       "      <th>1</th>\n",
       "      <td>176.818</td>\n",
       "      <td>2016-03-01T01:00</td>\n",
       "    </tr>\n",
       "    <tr>\n",
       "      <th>2</th>\n",
       "      <td>137.341</td>\n",
       "      <td>2016-03-01T02:00</td>\n",
       "    </tr>\n",
       "    <tr>\n",
       "      <th>3</th>\n",
       "      <td>116.532</td>\n",
       "      <td>2016-03-01T03:00</td>\n",
       "    </tr>\n",
       "    <tr>\n",
       "      <th>4</th>\n",
       "      <td>84.029</td>\n",
       "      <td>2016-03-01T04:00</td>\n",
       "    </tr>\n",
       "  </tbody>\n",
       "</table>\n",
       "</div>"
      ],
      "text/plain": [
       "     value         timestamp\n",
       "0   27.298  2016-03-01T00:00\n",
       "1  176.818  2016-03-01T01:00\n",
       "2  137.341  2016-03-01T02:00\n",
       "3  116.532  2016-03-01T03:00\n",
       "4   84.029  2016-03-01T04:00"
      ]
     },
     "execution_count": 11,
     "metadata": {},
     "output_type": "execute_result"
    }
   ],
   "source": [
    "df_test.head()"
   ]
  },
  {
   "cell_type": "code",
   "execution_count": 14,
   "metadata": {},
   "outputs": [],
   "source": [
    "df_test.columns = ['Valor', 'timestamp']"
   ]
  },
  {
   "cell_type": "code",
   "execution_count": 15,
   "metadata": {},
   "outputs": [
    {
     "data": {
      "text/html": [
       "<div>\n",
       "<style scoped>\n",
       "    .dataframe tbody tr th:only-of-type {\n",
       "        vertical-align: middle;\n",
       "    }\n",
       "\n",
       "    .dataframe tbody tr th {\n",
       "        vertical-align: top;\n",
       "    }\n",
       "\n",
       "    .dataframe thead th {\n",
       "        text-align: right;\n",
       "    }\n",
       "</style>\n",
       "<table border=\"1\" class=\"dataframe\">\n",
       "  <thead>\n",
       "    <tr style=\"text-align: right;\">\n",
       "      <th></th>\n",
       "      <th>Valor</th>\n",
       "      <th>timestamp</th>\n",
       "    </tr>\n",
       "  </thead>\n",
       "  <tbody>\n",
       "    <tr>\n",
       "      <th>0</th>\n",
       "      <td>27.298</td>\n",
       "      <td>2016-03-01T00:00</td>\n",
       "    </tr>\n",
       "    <tr>\n",
       "      <th>1</th>\n",
       "      <td>176.818</td>\n",
       "      <td>2016-03-01T01:00</td>\n",
       "    </tr>\n",
       "    <tr>\n",
       "      <th>2</th>\n",
       "      <td>137.341</td>\n",
       "      <td>2016-03-01T02:00</td>\n",
       "    </tr>\n",
       "    <tr>\n",
       "      <th>3</th>\n",
       "      <td>116.532</td>\n",
       "      <td>2016-03-01T03:00</td>\n",
       "    </tr>\n",
       "    <tr>\n",
       "      <th>4</th>\n",
       "      <td>84.029</td>\n",
       "      <td>2016-03-01T04:00</td>\n",
       "    </tr>\n",
       "  </tbody>\n",
       "</table>\n",
       "</div>"
      ],
      "text/plain": [
       "     Valor         timestamp\n",
       "0   27.298  2016-03-01T00:00\n",
       "1  176.818  2016-03-01T01:00\n",
       "2  137.341  2016-03-01T02:00\n",
       "3  116.532  2016-03-01T03:00\n",
       "4   84.029  2016-03-01T04:00"
      ]
     },
     "execution_count": 15,
     "metadata": {},
     "output_type": "execute_result"
    }
   ],
   "source": [
    "df_test.head()"
   ]
  },
  {
   "cell_type": "markdown",
   "metadata": {},
   "source": [
    "# Modelo Trivial ou de Persistência"
   ]
  },
  {
   "cell_type": "code",
   "execution_count": 16,
   "metadata": {},
   "outputs": [
    {
     "data": {
      "image/png": "[encoded data removed]",
      "text/plain": [
       "<Figure size 864x576 with 1 Axes>"
      ]
     },
     "metadata": {
      "needs_background": "light"
     },
     "output_type": "display_data"
    }
   ],
   "source": [
    "#TODO: resample hora a hora do teste e comparar com o de treino\n",
    "\n",
    "dd = np.asarray(df_train['Valor'])\n",
    "y_hat = df_test.copy()\n",
    "y_hat['naive'] = dd[len(dd)-1]\n",
    "plt.figure(figsize=(12,8))\n",
    "plt.plot(df_train.index, df_train['Valor'], label='Train')\n",
    "plt.plot(df_test.index,df_test['Valor'], label='Test')\n",
    "plt.plot(y_hat.index,y_hat['naive'], label='Naive Forecast')\n",
    "plt.legend(loc='best')\n",
    "plt.title(\"Naive Forecast\")\n",
    "plt.show()"
   ]
  },
  {
   "cell_type": "code",
   "execution_count": 18,
   "metadata": {},
   "outputs": [
    {
     "name": "stdout",
     "output_type": "stream",
     "text": [
      "67.2682189292732\n"
     ]
    }
   ],
   "source": [
    "from sklearn.metrics import mean_squared_error\n",
    "from math import sqrt\n",
    "rms = sqrt(mean_squared_error(df_test['Valor'], y_hat.naive))\n",
    "print(rms)"
   ]
  },
  {
   "cell_type": "code",
   "execution_count": null,
   "metadata": {},
   "outputs": [],
   "source": [
    "# Comparar com ela transformada"
   ]
  },
  {
   "cell_type": "markdown",
   "metadata": {},
   "source": [
    "# Modelo de Alisamento Exponencial"
   ]
  },
  {
   "cell_type": "code",
   "execution_count": 20,
   "metadata": {},
   "outputs": [
    {
     "data": {
      "image/png": "[encoded data removed]",
      "text/plain": [
       "<Figure size 1152x576 with 1 Axes>"
      ]
     },
     "metadata": {
      "needs_background": "light"
     },
     "output_type": "display_data"
    }
   ],
   "source": [
    "from statsmodels.tsa.api import ExponentialSmoothing, SimpleExpSmoothing, Holt\n",
    "y_hat_avg = df_test.copy()\n",
    "fit2 = SimpleExpSmoothing(np.asarray(df_train['Valor'])).fit(smoothing_level=0.6,optimized=False)\n",
    "y_hat_avg['SES'] = fit2.forecast(len(df_test))\n",
    "plt.figure(figsize=(16,8))\n",
    "plt.plot(df_train['Valor'], label='Train')\n",
    "plt.plot(df_test['Valor'], label='Test')\n",
    "plt.plot(y_hat_avg['SES'], label='SES')\n",
    "plt.legend(loc='best')\n",
    "plt.show()"
   ]
  },
  {
   "cell_type": "code",
   "execution_count": 21,
   "metadata": {},
   "outputs": [
    {
     "name": "stdout",
     "output_type": "stream",
     "text": [
      "66.6800091881856\n"
     ]
    }
   ],
   "source": [
    "rms = sqrt(mean_squared_error(df_test['Valor'], y_hat_avg['SES']))\n",
    "print(rms)"
   ]
  },
  {
   "cell_type": "markdown",
   "metadata": {},
   "source": [
    "# Modelo de Holt's-Winter"
   ]
  },
  {
   "cell_type": "code",
   "execution_count": 31,
   "metadata": {},
   "outputs": [
    {
     "name": "stderr",
     "output_type": "stream",
     "text": [
      "/home/fran/anaconda3/lib/python3.8/site-packages/statsmodels/tsa/holtwinters.py:743: ConvergenceWarning: Optimization failed to converge. Check mle_retvals.\n",
      "  warn(\"Optimization failed to converge. Check mle_retvals.\",\n"
     ]
    },
    {
     "data": {
      "image/png": "[encoded data removed]",
      "text/plain": [
       "<Figure size 1152x576 with 1 Axes>"
      ]
     },
     "metadata": {
      "needs_background": "light"
     },
     "output_type": "display_data"
    }
   ],
   "source": [
    "y_hat_avg = df_test.copy()\n",
    "fit1 = ExponentialSmoothing(np.asarray(df_train['Valor']) ,seasonal_periods=7 ,trend='add', seasonal='add',).fit()\n",
    "y_hat_avg['Holt_Winter'] = fit1.forecast(len(df_test))\n",
    "plt.figure(figsize=(16,8))\n",
    "plt.plot( df_train['Valor'], label='Train')\n",
    "plt.plot(df_test['Valor'], label='Test')\n",
    "plt.plot(y_hat_avg['Holt_Winter'], label='Holt_Winter')\n",
    "plt.legend(loc='best')\n",
    "plt.show()"
   ]
  },
  {
   "cell_type": "code",
   "execution_count": 32,
   "metadata": {},
   "outputs": [
    {
     "name": "stdout",
     "output_type": "stream",
     "text": [
      "961.8907445953669\n"
     ]
    }
   ],
   "source": [
    "rms = sqrt(mean_squared_error(df_test['Valor'], y_hat_avg.Holt_Winter))\n",
    "print(rms)"
   ]
  },
  {
   "cell_type": "code",
   "execution_count": null,
   "metadata": {},
   "outputs": [],
   "source": []
  }
 ],
 "metadata": {
  "kernelspec": {
   "display_name": "Python 3",
   "language": "python",
   "name": "python3"
  },
  "language_info": {
   "codemirror_mode": {
    "name": "ipython",
    "version": 3
   },
   "file_extension": ".py",
   "mimetype": "text/x-python",
   "name": "python",
   "nbconvert_exporter": "python",
   "pygments_lexer": "ipython3",
   "version": "3.8.3"
  }
 },
 "nbformat": 4,
 "nbformat_minor": 4
}
