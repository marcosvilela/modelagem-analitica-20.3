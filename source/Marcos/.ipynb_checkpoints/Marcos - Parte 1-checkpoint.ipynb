{
 "cells": [
  {
   "cell_type": "code",
   "execution_count": 2,
   "metadata": {},
   "outputs": [],
   "source": [
    "import numpy as np\n",
    "import pandas as pd\n",
    "import statsmodels.api as sm\n",
    "from statsmodels.tsa.stattools import adfuller, kpss, acf, grangercausalitytests\n",
    "from statsmodels.graphics.tsaplots import plot_acf, plot_pacf,month_plot,quarter_plot\n",
    "import statsmodels.tsa.api as smt\n",
    "import statsmodels.api as sm\n",
    "from scipy import signal\n",
    "from scipy import stats \n",
    "import matplotlib.pyplot as plt\n",
    "import seaborn as sns \n",
    "from sklearn.metrics import mean_absolute_error\n",
    "from statsmodels.tsa.seasonal import seasonal_decompose\n",
    "from dateutil.parser import parse\n",
    "\n",
    "\n",
    "%matplotlib inline \n",
    "sns.set_style(\"whitegrid\")\n",
    "plt.rc('xtick', labelsize=15) \n",
    "plt.rc('ytick', labelsize=15) "
   ]
  },
  {
   "cell_type": "markdown",
   "metadata": {},
   "source": [
    "# Lendo o dataset de treino\n"
   ]
  },
  {
   "cell_type": "code",
   "execution_count": 3,
   "metadata": {},
   "outputs": [],
   "source": [
    "data = pd.read_csv('../../data/ElectricDemandForecasting-DL-master_data_hourly_20140102_20191101_train.csv')\n"
   ]
  },
  {
   "cell_type": "code",
   "execution_count": 4,
   "metadata": {},
   "outputs": [],
   "source": [
    "def plot_df(df, x, y, title=\"\", xlabel='Date', ylabel='Value', dpi=100):\n",
    "    plt.figure(figsize=(20,5), dpi=dpi)\n",
    "    plt.plot(x, y, color='tab:red')\n",
    "    plt.gca().set(title=title, xlabel=xlabel, ylabel=ylabel)\n",
    "    plt.show()\n",
    "\n",
    "def mean_absolute_percentage_error(y_true, y_pred):\n",
    "    return np.mean(np.abs((y_true - y_pred) / y_true)) * 100\n",
    "\n",
    "def plot_moving_average(series, window, plot_intervals=False, scale=1.96):\n",
    "\n",
    "    rolling_mean = series.rolling(window=window).mean()\n",
    "    \n",
    "    plt.figure(figsize=(17,8))\n",
    "    plt.title('Moving average\\n window size = {}'.format(window))\n",
    "    plt.plot(rolling_mean, 'r', label='Rolling mean trend')\n",
    "    \n",
    "    #Plot confidence intervals for smoothed values\n",
    "    if plot_intervals:\n",
    "        mae = mean_absolute_error(series[window:], rolling_mean[window:])\n",
    "        deviation = np.std(series[window:] - rolling_mean[window:])\n",
    "        lower_bound = rolling_mean - (mae + scale * deviation)\n",
    "        upper_bound = rolling_mean + (mae + scale * deviation)\n",
    "        plt.plot(upper_bound, 'm--', label='Upper bound / Lower bound')\n",
    "        plt.plot(lower_bound, 'm--')\n",
    "            \n",
    "    plt.plot(series[window:], label='Actual values')\n",
    "    plt.legend(loc='best')\n",
    "    plt.grid(True)\n",
    "\n",
    "def tsplot(y, lags=None, figsize=(12, 7), syle='bmh'):\n",
    "    \n",
    "    if not isinstance(y, pd.Series):\n",
    "        y = pd.Series(y)\n",
    "        \n",
    "    with plt.style.context(style='bmh'):\n",
    "        fig = plt.figure(figsize=figsize)\n",
    "        layout = (2,2)\n",
    "        ts_ax = plt.subplot2grid(layout, (0,0), colspan=2)\n",
    "        acf_ax = plt.subplot2grid(layout, (1,0))\n",
    "        pacf_ax = plt.subplot2grid(layout, (1,1))\n",
    "        \n",
    "        y.plot(ax=ts_ax)\n",
    "        p_value = adfuller(y, autolag='AIC')[1]\n",
    "        ts_ax.set_title('Time Series Analysis Plots\\n Dickey-Fuller: p={0:.5f}'.format(p_value))\n",
    "        smt.graphics.plot_acf(y, lags=lags, ax=acf_ax)\n",
    "        smt.graphics.plot_pacf(y, lags=lags, ax=pacf_ax)\n",
    "        plt.tight_layout()"
   ]
  },
  {
   "cell_type": "code",
   "execution_count": null,
   "metadata": {},
   "outputs": [],
   "source": [
    "data['datetime']=pd.to_datetime(data['datetime'], utc=True)"
   ]
  },
  {
   "cell_type": "code",
   "execution_count": null,
   "metadata": {},
   "outputs": [],
   "source": [
    "data['ano']=data['datetime'].dt.year\n",
    "data['mes']=data['datetime'].dt.month\n",
    "data['hora']=data['datetime'].dt.hour\n",
    "data['min']=data['datetime'].dt.minute"
   ]
  },
  {
   "cell_type": "code",
   "execution_count": null,
   "metadata": {},
   "outputs": [],
   "source": [
    "data.head()"
   ]
  },
  {
   "cell_type": "code",
   "execution_count": null,
   "metadata": {},
   "outputs": [],
   "source": [
    "data.info()"
   ]
  },
  {
   "cell_type": "code",
   "execution_count": null,
   "metadata": {},
   "outputs": [],
   "source": [
    "## Histograma de quantidade de dados por meses do ano\n",
    "\n",
    "plt.figure(figsize=(20,9), dpi=100)\n",
    "\n",
    "sns.set_context('notebook', font_scale = 2)\n",
    "\n",
    "sns.countplot(x='mes', data = data, hue = 'ano', palette='Set2')\n",
    "\n",
    "plt.legend(loc=0)\n",
    "\n",
    "plt.tight_layout()"
   ]
  },
  {
   "cell_type": "code",
   "execution_count": null,
   "metadata": {},
   "outputs": [],
   "source": [
    "## Plot dos valores por hora no ano de 2014\n",
    "\n",
    "plt.figure(figsize=(30,15), dpi=200)\n",
    "\n",
    "sns.barplot(x='hora', y='value',data=data)"
   ]
  },
  {
   "cell_type": "code",
   "execution_count": null,
   "metadata": {},
   "outputs": [],
   "source": [
    "######################### PLOTS HORÁRIOS, DIÁRIOS, MENSAIS E SEMANAIS COM SOMATÓRIO E MÉDIA ###################################\n",
    "\n",
    "hourly_s = data.set_index('datetime').resample('H').sum()\n",
    "daily_s = data.set_index('datetime').resample('D').sum()\n",
    "weekly_s = data.set_index('datetime').resample('W').sum()\n",
    "monthly_s = data.set_index('datetime').resample('M').sum()\n",
    "\n",
    "hourly_m = data.set_index('datetime').resample('H').mean()\n",
    "daily_m = data.set_index('datetime').resample('D').mean()\n",
    "weekly_m = data.set_index('datetime').resample('W').mean()\n",
    "monthly_m = data.set_index('datetime').resample('M').mean()\n"
   ]
  },
  {
   "cell_type": "code",
   "execution_count": null,
   "metadata": {},
   "outputs": [],
   "source": [
    "plot_df(monthly_s, x=monthly_s.index, y=monthly_s.value, title=\"Electric series - Monthly/Sum\")\n",
    "monthly_s.info()"
   ]
  },
  {
   "cell_type": "code",
   "execution_count": null,
   "metadata": {},
   "outputs": [],
   "source": [
    "plot_df(monthly_m, x=monthly_m.index, y=monthly_m.value, title=\"Electric series - Monthly/Mean\")\n",
    "monthly_m.info()"
   ]
  },
  {
   "cell_type": "code",
   "execution_count": null,
   "metadata": {},
   "outputs": [],
   "source": [
    "plot_df(weekly_s, x=weekly_s.index, y=weekly_s.value, title=\"Electric series - Weekly/Sum\")\n",
    "weekly_s.info()"
   ]
  },
  {
   "cell_type": "code",
   "execution_count": null,
   "metadata": {},
   "outputs": [],
   "source": [
    "plot_df(weekly_m, x=weekly_m.index, y=weekly_m.value, title=\"Electric series - Weekly/Mean\")\n",
    "weekly_m.info()"
   ]
  },
  {
   "cell_type": "code",
   "execution_count": null,
   "metadata": {},
   "outputs": [],
   "source": [
    "plot_df(daily_s, x=daily_s.index, y=daily_s.value, title=\"Electric series - Daily/Sum\")\n",
    "daily_s.info()"
   ]
  },
  {
   "cell_type": "code",
   "execution_count": null,
   "metadata": {},
   "outputs": [],
   "source": [
    "plot_df(daily_m, x=daily_m.index, y=daily_m.value, title=\"Electric series - Daily/Mean\")\n",
    "daily_m.info()"
   ]
  },
  {
   "cell_type": "code",
   "execution_count": null,
   "metadata": {},
   "outputs": [],
   "source": [
    "plot_df(hourly_s, x=hourly_s.index, y=hourly_s.value, title=\"Electric series - Hourly/Sum\")\n",
    "daily_s.info()"
   ]
  },
  {
   "cell_type": "code",
   "execution_count": null,
   "metadata": {},
   "outputs": [],
   "source": [
    "plot_df(hourly_m, x=hourly_m.index, y=hourly_m.value, title=\"Electric series - Hourly/Mean\")\n",
    "hourly_m.info()"
   ]
  },
  {
   "cell_type": "code",
   "execution_count": null,
   "metadata": {},
   "outputs": [],
   "source": [
    "plot_moving_average(weekly_m.value, 7)\n",
    "\n",
    "plot_moving_average(weekly_m.value, 30)\n",
    "\n",
    "plot_moving_average(weekly_m.value, 180, plot_intervals=True)"
   ]
  },
  {
   "cell_type": "markdown",
   "metadata": {},
   "source": [
    "# Testes de Dick-Fulley e KPSS"
   ]
  },
  {
   "cell_type": "code",
   "execution_count": null,
   "metadata": {},
   "outputs": [],
   "source": [
    "tsplot(weekly_m.value, lags=30)"
   ]
  },
  {
   "cell_type": "code",
   "execution_count": null,
   "metadata": {},
   "outputs": [],
   "source": [
    "## Olhando para o p-value acima, notamos que é muito menor que o limiar de 5% (0.05), rejeitando assim a hipótese nula de que a Série\n",
    "## não é estacionária. Isso nos confirma que a série é, de fato, estacionária"
   ]
  },
  {
   "cell_type": "code",
   "execution_count": null,
   "metadata": {},
   "outputs": [],
   "source": [
    "p_value2 = kpss(weekly_m.value, regression='c')[1]\n",
    "p_value2"
   ]
  },
  {
   "cell_type": "code",
   "execution_count": null,
   "metadata": {},
   "outputs": [],
   "source": [
    "## Com o teste KPSS temos o resultado contrário: O p-value acima é maior/muito próximo do limiar de 5% (0.05), aceitando a hipótese nula de que\n",
    "## a série é estacionária. Isso nos confirma que a série é, de fato, estacionária"
   ]
  },
  {
   "cell_type": "markdown",
   "metadata": {},
   "source": [
    "# Decomposição da Série"
   ]
  },
  {
   "cell_type": "code",
   "execution_count": null,
   "metadata": {},
   "outputs": [],
   "source": [
    "# Decomposição multiplicativa\n",
    "result_mul = seasonal_decompose(weekly_m['value'], model='multiplicative', extrapolate_trend='freq')\n",
    "\n",
    "# Decomposição aditiva\n",
    "result_add = seasonal_decompose(weekly_m['value'], model='additive', extrapolate_trend='freq')\n",
    "\n",
    "# Plot\n",
    "plt.rcParams.update({'figure.figsize': (10,10)})\n",
    "result_mul.plot().suptitle('Multiplicative Decompose', fontsize=16)\n",
    "result_add.plot().suptitle('Additive Decompose', fontsize=16)\n",
    "plt.show()"
   ]
  },
  {
   "cell_type": "markdown",
   "metadata": {},
   "source": [
    "# Transformação Logarítmica e reaplicação dos testes"
   ]
  },
  {
   "cell_type": "code",
   "execution_count": null,
   "metadata": {},
   "outputs": [],
   "source": [
    "log_data = np.log(weekly_m['value']).to_frame()\n",
    "plot_df(log_data, x=log_data.index, y=log_data.value, title=\"Electric series - Weekly/Mean - Logarithmic transformation\")"
   ]
  },
  {
   "cell_type": "code",
   "execution_count": null,
   "metadata": {},
   "outputs": [],
   "source": [
    "tsplot(log_data.value, lags=30)"
   ]
  },
  {
   "cell_type": "code",
   "execution_count": null,
   "metadata": {
    "scrolled": true
   },
   "outputs": [],
   "source": [
    "p_value2 = kpss(log_data.value, regression='c')[1]\n",
    "p_value2"
   ]
  },
  {
   "cell_type": "markdown",
   "metadata": {},
   "source": [
    "## Transformação Retorno Logarítmico"
   ]
  },
  {
   "cell_type": "code",
   "execution_count": null,
   "metadata": {},
   "outputs": [],
   "source": [
    "weekly_m_return_log = weekly_m.copy()"
   ]
  },
  {
   "cell_type": "code",
   "execution_count": null,
   "metadata": {},
   "outputs": [],
   "source": [
    "weekly_m_return_log['return-log'] = np.log(weekly_m_return_log.value) - np.log(weekly_m_return_log.value.shift(1))\n",
    "weekly_m_return_log.head()"
   ]
  },
  {
   "cell_type": "code",
   "execution_count": null,
   "metadata": {},
   "outputs": [],
   "source": [
    "for col in weekly_m_return_log:\n",
    "    weekly_m_return_log['return-log'] = weekly_m_return_log['return-log'].fillna(weekly_m_return_log['return-log'].mean())\n",
    "\n",
    "plot_df(weekly_m_return_log, x=weekly_m_return_log.index, y=weekly_m_return_log['return-log'], title=\"Electric series - Weekly/Mean - Return Log transformation\")"
   ]
  },
  {
   "cell_type": "code",
   "execution_count": null,
   "metadata": {},
   "outputs": [],
   "source": [
    "tsplot(weekly_m_return_log['return-log'], lags=30)"
   ]
  },
  {
   "cell_type": "code",
   "execution_count": null,
   "metadata": {},
   "outputs": [],
   "source": [
    "weekly_m_return_log.to_csv(r'../../data/Marcos/weekly_m_return_log.csv')"
   ]
  },
  {
   "cell_type": "code",
   "execution_count": null,
   "metadata": {},
   "outputs": [],
   "source": []
  },
  {
   "cell_type": "code",
   "execution_count": null,
   "metadata": {},
   "outputs": [],
   "source": []
  }
 ],
 "metadata": {
  "kernelspec": {
   "display_name": "Python 2",
   "language": "python",
   "name": "python2"
  },
  "language_info": {
   "codemirror_mode": {
    "name": "ipython",
    "version": 2
   },
   "file_extension": ".py",
   "mimetype": "text/x-python",
   "name": "python",
   "nbconvert_exporter": "python",
   "pygments_lexer": "ipython2",
   "version": "2.7.16"
  }
 },
 "nbformat": 4,
 "nbformat_minor": 2
}
